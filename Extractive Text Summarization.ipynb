{
 "cells": [
  {
   "cell_type": "code",
   "execution_count": null,
   "metadata": {},
   "outputs": [],
   "source": [
    "from collections import Counter"
   ]
  },
  {
   "cell_type": "code",
   "execution_count": null,
   "metadata": {},
   "outputs": [],
   "source": [
    "from string import punctuation"
   ]
  },
  {
   "cell_type": "code",
   "execution_count": null,
   "metadata": {},
   "outputs": [],
   "source": [
    "from sklearn.feature_extraction.stop_words import ENGLISH_STOP_WORDS as stop_words"
   ]
  },
  {
   "cell_type": "code",
   "execution_count": null,
   "metadata": {},
   "outputs": [],
   "source": [
    "text = \"\"\"\n",
    "The House Judiciary Committee has invited President Donald Trump or his counsel to participate in the panel's first impeachment hearing next week as the House moves another step closer to impeaching the President. \n",
    "The committee announced that it would hold a hearing December 4 on the \"constitutional grounds for presidential impeachment,\" with a panel of expert witnesses testifying.\n",
    "House Judiciary Chairman Jerry Nadler sent a letter to Trump on Tuesday notifying him of the hearing and inviting the President or his counsel to participate, including asking questions of the witnesses.\n",
    "\"I write to ask if you or your counsel plan to attend the hearing or make a request to question the witness panel,\" the New York Democrat wrote.\n",
    "In the letter, Nadler said the hearing would \"serve as an opportunity to discuss the historical and constitutional basis of impeachment, as well as the Framers' intent and understanding of terms like 'high crimes and misdemeanors.' \"\n",
    "\"We expect to discuss the constitutional framework through which the House may analyze the evidence gathered in the present inquiry,\" Nadler added. \"We will also discuss whether your alleged actions warrant the House's exercising its authority to adopt articles of impeachment.\"\n",
    "The Judiciary Committee hearing is the latest sign that House Democrats are moving forward with impeachment proceedings against the President following the two-month investigation led by the House Intelligence Committee into allegations that Trump pushed Ukraine to investigate his political rivals while a White House meeting and $400 million in security aid were withheld from Kiev.\n",
    "The hearing announcement comes as the Intelligence Committee plans to release its report summarizing the findings of its investigation to the House Judiciary Committee soon after Congress returns from its Thanksgiving recess next week.\n",
    "Democratic aides declined to say what additional hearings they will schedule as part of the impeachment proceedings.\n",
    "The Judiciary Committee is expected to hold multiple hearings related to impeachment, and the panel would debate and approve articles of impeachment before a vote on the House floor.\n",
    "The aides said the first hearing was a \"legal hearing\" that would include some history of impeachment, as well as evaluating the seriousness of the allegations and the evidence against the President.\n",
    "Nadler asked Trump to respond by Sunday on whether the White House wanted to participate in the hearings, as well as who would act as the President's counsel for the proceedings. The letter was copied to White House Counsel Pat Cipollone.\n",
    "\"\"\""
   ]
  },
  {
   "cell_type": "code",
   "execution_count": null,
   "metadata": {},
   "outputs": [],
   "source": [
    "def tokenizer(s):\n",
    "    tokens = []\n",
    "    for word in s.split(' '):\n",
    "        tokens.append(word.strip().lower())\n",
    "    return tokens"
   ]
  },
  {
   "cell_type": "code",
   "execution_count": null,
   "metadata": {},
   "outputs": [],
   "source": [
    "def sent_tokenizer(s):\n",
    "    sents = []\n",
    "    for sent in s.split('.'):\n",
    "        sents.append(sent.strip())\n",
    "    return sents"
   ]
  },
  {
   "cell_type": "code",
   "execution_count": null,
   "metadata": {},
   "outputs": [],
   "source": [
    "tokens = tokenizer(text)\n",
    "sents = sent_tokenizer(text)"
   ]
  },
  {
   "cell_type": "code",
   "execution_count": null,
   "metadata": {},
   "outputs": [],
   "source": [
    "print(tokens)"
   ]
  },
  {
   "cell_type": "code",
   "execution_count": null,
   "metadata": {},
   "outputs": [],
   "source": [
    "print(sents)"
   ]
  },
  {
   "cell_type": "code",
   "execution_count": null,
   "metadata": {},
   "outputs": [],
   "source": [
    "def count_words(tokens):\n",
    "    word_counts = {}\n",
    "    for token in tokens:\n",
    "        if token not in stop_words and token not in punctuation:\n",
    "            if token not in word_counts.keys():\n",
    "                word_counts[token] = 1\n",
    "            else:\n",
    "                word_counts[token] += 1\n",
    "    return word_counts"
   ]
  },
  {
   "cell_type": "code",
   "execution_count": null,
   "metadata": {},
   "outputs": [],
   "source": [
    "word_counts = count_words(tokens)\n",
    "word_counts"
   ]
  },
  {
   "cell_type": "code",
   "execution_count": null,
   "metadata": {},
   "outputs": [],
   "source": [
    "def word_freq_distribution(word_counts):\n",
    "    freq_dist = {}\n",
    "    max_freq = max(word_counts.values())\n",
    "    for word in word_counts.keys():\n",
    "        freq_dist[word] = (word_counts[word]/max_freq)\n",
    "    return freq_dist"
   ]
  },
  {
   "cell_type": "code",
   "execution_count": null,
   "metadata": {},
   "outputs": [],
   "source": [
    "freq_dist = word_freq_distribution(word_counts)\n",
    "freq_dist"
   ]
  },
  {
   "cell_type": "code",
   "execution_count": null,
   "metadata": {},
   "outputs": [],
   "source": [
    "def score_sentences(sents, freq_dist, max_len = 40):\n",
    "    sent_scores = {}\n",
    "    for sent in sents:\n",
    "        words = sent.split(' ')\n",
    "        for word in words:\n",
    "            if word.lower() in freq_dist.keys():\n",
    "                if len(words) < max_len:\n",
    "                    if sent not in sent_scores.keys():\n",
    "                        sent_scores[sent] = freq_dist[word.lower()]\n",
    "                    else:\n",
    "                        sent_scores[sent] += freq_dist[word.lower()]\n",
    "    return sent_scores"
   ]
  },
  {
   "cell_type": "code",
   "execution_count": null,
   "metadata": {},
   "outputs": [],
   "source": [
    "sent_scores = score_sentences(sents, freq_dist)\n",
    "sent_scores"
   ]
  },
  {
   "cell_type": "code",
   "execution_count": null,
   "metadata": {},
   "outputs": [],
   "source": [
    "def summarize(sent_scores, k):\n",
    "    top_sents = Counter(sent_scores)\n",
    "    summary = ''\n",
    "    scores = []\n",
    "    \n",
    "    top = top_sents.most_common(k)\n",
    "    for t in top:\n",
    "        summary += t[0].strip()+'. '\n",
    "        scores.append((t[1], t[0]))\n",
    "    return summary[:-1], scores"
   ]
  },
  {
   "cell_type": "code",
   "execution_count": null,
   "metadata": {},
   "outputs": [],
   "source": [
    "summary, summary_sent_scores = summarize(sent_scores, 3)\n",
    "print(summary)"
   ]
  },
  {
   "cell_type": "code",
   "execution_count": null,
   "metadata": {},
   "outputs": [],
   "source": [
    "for score in summary_sent_scores:\n",
    "    print(score[0], '->', score[1], '\\n')"
   ]
  },
  {
   "cell_type": "code",
   "execution_count": null,
   "metadata": {},
   "outputs": [],
   "source": []
  }
 ],
 "metadata": {
  "kernelspec": {
   "display_name": "Python 3",
   "language": "python",
   "name": "python3"
  },
  "language_info": {
   "codemirror_mode": {
    "name": "ipython",
    "version": 3
   },
   "file_extension": ".py",
   "mimetype": "text/x-python",
   "name": "python",
   "nbconvert_exporter": "python",
   "pygments_lexer": "ipython3",
   "version": "3.7.3"
  }
 },
 "nbformat": 4,
 "nbformat_minor": 2
}
